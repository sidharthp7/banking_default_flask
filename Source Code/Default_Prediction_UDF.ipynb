{
 "cells": [
  {
   "cell_type": "code",
   "execution_count": 1,
   "id": "6cabafe6",
   "metadata": {},
   "outputs": [],
   "source": [
    "from zipfile import ZipFile\n",
    "import requests\n",
    "from io import BytesIO, StringIO\n",
    "import pandas as pd\n",
    "import numpy as np\n",
    "from sklearn import metrics\n",
    "from sklearn.model_selection import train_test_split\n",
    "from matplotlib import pyplot as plt\n",
    "%matplotlib inline\n",
    "import seaborn as sns\n",
    "from catboost import CatBoostClassifier\n",
    "from lightgbm import LGBMClassifier\n",
    "import warnings\n",
    "warnings.filterwarnings(\"ignore\")\n",
    "import re\n",
    "import pickle\n",
    "import explainerdashboard as expdb\n",
    "from explainerdashboard import ClassifierExplainer, ExplainerDashboard"
   ]
  },
  {
   "cell_type": "code",
   "execution_count": null,
   "id": "8c1b5f8f",
   "metadata": {},
   "outputs": [],
   "source": []
  },
  {
   "cell_type": "code",
   "execution_count": null,
   "id": "38098b53",
   "metadata": {},
   "outputs": [],
   "source": []
  },
  {
   "cell_type": "markdown",
   "id": "e18b9450",
   "metadata": {},
   "source": [
    "#### Reading data"
   ]
  },
  {
   "cell_type": "code",
   "execution_count": 2,
   "id": "40fd4d33",
   "metadata": {},
   "outputs": [],
   "source": [
    "# Reading training (to build the model) and testing data (to predict the default)\n",
    "response = requests.get('https://machinehack-be.s3.amazonaws.com/analytics_olympiad_2023/Participants_Data_analytics_olympiad_2023.zip?')\n",
    "zip_file = ZipFile(BytesIO(response.content))\n",
    "files = zip_file.namelist()\n",
    "train_data=pd.read_csv(zip_file.open('train.csv'), encoding='utf8', sep=\",\")\n",
    "test_data=pd.read_csv(zip_file.open('test.csv'), encoding='utf8', sep=\",\")"
   ]
  },
  {
   "cell_type": "code",
   "execution_count": null,
   "id": "7c99102e",
   "metadata": {},
   "outputs": [],
   "source": []
  },
  {
   "cell_type": "code",
   "execution_count": null,
   "id": "7783925b",
   "metadata": {},
   "outputs": [],
   "source": []
  },
  {
   "cell_type": "markdown",
   "id": "3438616e",
   "metadata": {},
   "source": [
    "#### User Defined Function to Build Default Prediction Model"
   ]
  },
  {
   "cell_type": "code",
   "execution_count": 3,
   "id": "70d6d49a",
   "metadata": {},
   "outputs": [],
   "source": [
    "# This function takes following parameters as input values: 1. Data, 2. Feature to predict, 3. Categorical Feature list, 4. Continuous feature list\n",
    "# This function returns outputs: 1. Prediction Model, 2. Feature Importances, 3. Final Features List ,4. Encoding labels (of the prediction feature)\n",
    "def udf_default_prediction(data,dependent_variable,cat_features_init,cont_features_init):\n",
    "\n",
    "    input_df=data.loc[data[dependent_variable].notnull()==True,].drop_duplicates().reset_index(drop=True)\n",
    "\n",
    "    def udf_classification_results(input_model,input_dataframe_Y,input_dataframe_X,labels_val):\n",
    "        test_predict=pd.concat([input_dataframe_Y.reset_index(drop=True),pd.Series(np.argmax(input_model.predict_proba(input_dataframe_X),axis=1))],axis=1)\n",
    "        test_predict.columns=['Actual','Predicted']\n",
    "        return metrics.f1_score(test_predict['Actual'],test_predict['Predicted'])\n",
    "\n",
    "    def udf_confusion_matrix(input_model,input_dataframe_Y,input_dataframe_X,labels_val):\n",
    "        test_predict=pd.concat([input_dataframe_Y.reset_index(drop=True),pd.Series(np.argmax(input_model.predict_proba(input_dataframe_X),axis=1))],axis=1)\n",
    "        test_predict.columns=['Actual','Predicted']    \n",
    "        confusion_matrx=metrics.confusion_matrix(test_predict['Actual'],test_predict['Predicted'])*100/test_predict.shape[0]\n",
    "        sns.heatmap(confusion_matrx,annot=True,fmt='.1f',xticklabels=labels_val,yticklabels=labels_val)\n",
    "        plt.xlabel('Predicted')\n",
    "        plt.ylabel('Actual')\n",
    "        plt.show()\n",
    "\n",
    "    def udf_feat_importance(df_ip,model_ip):\n",
    "        feature_imp=pd.concat([pd.Series(df_ip.columns),pd.Series(classification_model.feature_importances_)],axis=1)\n",
    "        feature_imp.columns=['Feature','Importance']\n",
    "        feature_imp=feature_imp.dropna()\n",
    "        feature_imp.sort_values('Importance',ascending=False,inplace=True)\n",
    "        feature_imp=feature_imp.reset_index(drop=True)\n",
    "        cumulative_sum=feature_imp['Importance'].sum()\n",
    "        exit_loop,index_val=0,0\n",
    "        while exit_loop==0:\n",
    "            if feature_imp['Importance'][0:index_val].sum()/cumulative_sum>=0.75:\n",
    "                exit_loop=1\n",
    "            else:\n",
    "                index_val+=1\n",
    "        return list(feature_imp['Feature'][0:index_val])\n",
    "\n",
    "    labels_value=input_df[dependent_variable].unique()\n",
    "\n",
    "    encode_mapping,decode_mapping={},{}\n",
    "    for cardinality in range(0,len(input_df[dependent_variable].unique())):\n",
    "        encode_mapping[cardinality]=input_df[dependent_variable].unique()[cardinality]\n",
    "        decode_mapping[input_df[dependent_variable].unique()[cardinality]]=cardinality\n",
    "\n",
    "    input_df[dependent_variable]=input_df[dependent_variable].astype('category')\n",
    "\n",
    "    # Typecasting continuous data into float data type\n",
    "    input_df[cont_features_init]=input_df[cont_features_init].apply(lambda x:pd.to_numeric(x,downcast='float',errors='coerce'))\n",
    "    \n",
    "    input_df[cat_features_init]=input_df[cat_features_init].apply(lambda x:str(x))\n",
    "    \n",
    "    independent_features=list(set(cat_features_init).union(cont_features_init))\n",
    "    X_df=input_df[independent_features]\n",
    "    y_df=input_df[dependent_variable].map(decode_mapping)\n",
    "\n",
    "    # Train Test Split for Modelling Data\n",
    "    train_X,test_X,train_Y,test_Y=train_test_split(X_df,y_df,test_size=0.3,random_state=123)\n",
    "\n",
    "    # Adverserial Validation\n",
    "    train_adv=train_X.copy().reset_index(drop=True)\n",
    "    val_adv=test_X.copy().reset_index(drop=True)\n",
    "    train_adv['IsValidation']=0\n",
    "    val_adv['IsValidation']=1\n",
    "    adv_val_df=pd.concat([train_adv,val_adv],axis=0).reset_index(drop=True)\n",
    "    x_adv_cols=list(adv_val_df.columns.difference(['IsValidation']))\n",
    "    y_adv_col='IsValidation'\n",
    "    train_X_adv,test_X_adv,train_Y_adv,test_Y_adv=train_test_split(adv_val_df[x_adv_cols],adv_val_df[y_adv_col],test_size=0.3,random_state=123)\n",
    "\n",
    "    # Exclusion list of Adverserial Validation\n",
    "    excluded_features=[]\n",
    "    feature_threshold=0.3*train_X_adv.shape[1]\n",
    "    cat_features_init_adv=cat_features_init.copy()\n",
    "    cb_adv_model=CatBoostClassifier(random_seed=123,verbose=0)\n",
    "    cb_adv_model.fit(train_X_adv,train_Y_adv,cat_features=cat_features_init_adv,eval_set=(test_X_adv,test_Y_adv),early_stopping_rounds=10)\n",
    "    roc_auc_adv_score=metrics.roc_auc_score(test_Y_adv,pd.DataFrame(cb_adv_model.predict_proba(test_X_adv))[1])\n",
    "    while roc_auc_adv_score>0.6:\n",
    "        cb_adv_model=CatBoostClassifier(random_seed=123,verbose=0)\n",
    "        cb_adv_model.fit(train_X_adv,train_Y_adv,cat_features=cat_features_init_adv,eval_set=(test_X_adv,test_Y_adv),early_stopping_rounds=10)\n",
    "        roc_auc_adv_score=metrics.roc_auc_score(test_Y_adv,pd.DataFrame(cb_adv_model.predict_proba(test_X_adv))[1])\n",
    "        adv_fe_df=pd.concat([pd.Series(train_X_adv.columns),pd.Series(cb_adv_model.feature_importances_)],axis=1)\n",
    "        adv_fe_df.columns=['Feature','Importance']\n",
    "        adv_fe_df=adv_fe_df.sort_values('Importance',ascending=False).reset_index(drop=True)\n",
    "        excluded_features.append(adv_fe_df['Feature'][0])\n",
    "        length_remaining_features=len(train_X_adv.columns.difference(excluded_features))\n",
    "        if length_remaining_features>feature_threshold:\n",
    "            train_X_adv=train_X_adv[train_X_adv.columns.difference(excluded_features)].reset_index(drop=True)\n",
    "            test_X_adv=test_X_adv[test_X_adv.columns.difference(excluded_features)].reset_index(drop=True)\n",
    "            cat_features_init_adv=list(set(cat_features_init_adv).difference(excluded_features))\n",
    "        else:\n",
    "            break\n",
    "\n",
    "    # Identifying which of the of the 2 tree based models performs better\n",
    "    train_X[cat_features_init]=train_X[cat_features_init].astype('category')\n",
    "    test_X[cat_features_init]=test_X[cat_features_init].astype('category')\n",
    "    cb_model=CatBoostClassifier(random_seed=123,verbose=0)\n",
    "    cb_model.fit(train_X,train_Y,cat_features=cat_features_init,eval_set=(test_X,test_Y),early_stopping_rounds=10)\n",
    "    f1_score_cb=udf_classification_results(cb_model,test_Y,test_X,labels_value)\n",
    "    lgbm_model=LGBMClassifier(random_seed=123)\n",
    "    lgbm_model.fit(train_X,train_Y,categorical_feature=cat_features_init,eval_set=(test_X,test_Y),early_stopping_rounds=10,verbose=0)\n",
    "    f1_score_lgbm=udf_classification_results(lgbm_model,test_Y,test_X,labels_value)\n",
    "    if f1_score_cb>f1_score_lgbm:\n",
    "        classification_model=cb_model\n",
    "    else:\n",
    "        classification_model=lgbm_model\n",
    "\n",
    "    # Feature Engineering using Feature Importance of the model\n",
    "    primary_features=udf_feat_importance(train_X,classification_model)\n",
    "\n",
    "    cat_features_fin=list(set(cat_features_init).intersection(primary_features))\n",
    "    train_X=train_X[primary_features]\n",
    "    test_X=test_X[primary_features]\n",
    "    if str(type(classification_model)).find('LGBM')>-1:\n",
    "        model_classification=LGBMClassifier(random_seed=123)\n",
    "        model_classification.fit(train_X,train_Y,categorical_feature=cat_features_fin,eval_set=(test_X,test_Y),early_stopping_rounds=10,verbose=0)\n",
    "    else:    \n",
    "        model_classification=CatBoostClassifier(random_seed=123,verbose=0)\n",
    "        model_classification.fit(train_X,train_Y,cat_features=cat_features_fin,eval_set=(test_X,test_Y),early_stopping_rounds=10)\n",
    "\n",
    "    # Apart from top-20% features, remove other features which feature in exclusion list of Adverserial Validation\n",
    "    feature_imp_df=pd.concat([pd.Series(train_X.columns),pd.Series(model_classification.feature_importances_)],axis=1)\n",
    "    feature_imp_df.columns=['Feature','Importance']\n",
    "    feature_imp_df=feature_imp_df.sort_values('Importance',ascending=False).reset_index(drop=True)\n",
    "    num_feat_offlimits=np.ceil(feature_imp_df.shape[0]*0.2)\n",
    "    features_excluded=list(set(feature_imp_df.loc[num_feat_offlimits:,'Feature']).intersection(excluded_features))\n",
    "\n",
    "    primary_features=list(set(primary_features).difference(features_excluded))\n",
    "    cat_features_fin=list(set(cat_features_init).intersection(primary_features))\n",
    "    train_X=train_X[primary_features]\n",
    "    test_X=test_X[primary_features]\n",
    "    if str(type(classification_model)).find('LGBM')>-1:\n",
    "        model_classification=LGBMClassifier(random_seed=123)\n",
    "        model_classification.fit(train_X,train_Y,categorical_feature=cat_features_fin,eval_set=(test_X,test_Y),early_stopping_rounds=10,verbose=0)\n",
    "    else:    \n",
    "        model_classification=CatBoostClassifier(random_seed=123,verbose=0)\n",
    "        model_classification.fit(train_X,train_Y,cat_features=cat_features_fin,eval_set=(test_X,test_Y),early_stopping_rounds=10)\n",
    "    feature_importances_df=pd.concat([pd.Series(train_X.columns),pd.Series(model_classification.feature_importances_)],axis=1)\n",
    "    feature_importances_df.columns=['Feature','Importance']\n",
    "    feature_importances_df=feature_importances_df.sort_values('Importance',ascending=False).reset_index(drop=True)\n",
    "    confusion_matrix_op=udf_confusion_matrix(model_classification,test_Y,test_X,labels_value)\n",
    "    final_feature_list=list(train_X.columns)\n",
    "    return [model_classification,feature_importances_df,final_feature_list,encode_mapping]"
   ]
  },
  {
   "cell_type": "code",
   "execution_count": null,
   "id": "a7b90852",
   "metadata": {},
   "outputs": [],
   "source": []
  },
  {
   "cell_type": "code",
   "execution_count": null,
   "id": "15a3ecd7",
   "metadata": {},
   "outputs": [],
   "source": []
  },
  {
   "cell_type": "markdown",
   "id": "e6b7bba6",
   "metadata": {},
   "source": [
    "#### Model Building with the data"
   ]
  },
  {
   "cell_type": "code",
   "execution_count": 4,
   "id": "1d11b997",
   "metadata": {},
   "outputs": [],
   "source": [
    "data=train_data.copy()"
   ]
  },
  {
   "cell_type": "code",
   "execution_count": 5,
   "id": "67b25477",
   "metadata": {},
   "outputs": [],
   "source": [
    "dependent_variable='primary_close_flag'\n",
    "cat_features_init=[\"firstname\",\"lastname\",\"is_zero_loans_within_5_days\",\"is_zero_loans_within_5_to_30_days\",\"is_zero_loans_within_30_to_60_days\",\"is_zero_loans_within_60_to_90_days\",\"is_zero_loans_over_90_days\",\"is_zero_utilization\",\"is_zero_over_limit_count\",\"is_zero_max_over_limit_count\",\"encoded_payment_0\",\"encoded_payment_1\",\"encoded_payment_2\",\"encoded_payment_3\",\"encoded_payment_4\",\"encoded_payment_5\",\"encoded_payment_6\",\"encoded_payment_7\",\"encoded_payment_8\",\"encoded_payment_9\",\"encoded_payment_10\",\"encoded_payment_11\",\"encoded_payment_12\",\"encoded_payment_13\",\"encoded_payment_14\",\"encoded_payment_15\",\"encoded_payment_16\",\"encoded_payment_17\",\"encoded_payment_18\",\"encoded_payment_19\",\"encoded_payment_20\",\"encoded_payment_21\",\"encoded_payment_22\",\"encoded_payment_23\",\"encoded_payment_24\",\"encoded_loans_account_holder_type\",\"encoded_loans_credit_status\",\"encoded_loans_credit_type\",\"encoded_loans_account_currency\"]\n",
    "excluded_features=cat_features_init.copy()\n",
    "excluded_features.append(dependent_variable)\n",
    "cont_features_init=[\"customer_id\",\"record_number\",\"days_since_opened\",\"days_since_confirmed\",\"primary_term\",\"final_term\",\"days_till_primary_close\",\"days_till_final_close\",\"loans_credit_limit\",\"loans_next_payment_summary\",\"loans_outstanding_balance\",\"loans_max_overdue_amount\",\"loans_credit_cost_rate\",\"loans_within_5_days\",\"loans_within_5_to_30_days\",\"loans_within_30_to_60_days\",\"loans_within_60_to_90_days\",\"loans_over_90_days\",\"utilization\",\"over_limit_count\",\"max_over_limit_count\"]"
   ]
  },
  {
   "cell_type": "code",
   "execution_count": 6,
   "id": "cca29092",
   "metadata": {},
   "outputs": [
    {
     "data": {
      "image/png": "[encoded data removed]",
      "text/plain": [
       "<Figure size 432x288 with 2 Axes>"
      ]
     },
     "metadata": {
      "needs_background": "light"
     },
     "output_type": "display_data"
    }
   ],
   "source": [
    "# Getting the prediction model on the data\n",
    "prediction_model,feature_importances_res,fin_features_X,encode_map=udf_default_prediction(data,dependent_variable,cat_features_init,cont_features_init)"
   ]
  },
  {
   "cell_type": "code",
   "execution_count": 7,
   "id": "bf39da9f",
   "metadata": {},
   "outputs": [
    {
     "data": {
      "text/plain": [
       "['days_since_confirmed',\n",
       " 'record_number',\n",
       " 'loans_credit_cost_rate',\n",
       " 'utilization',\n",
       " 'loans_credit_limit',\n",
       " 'days_since_opened']"
      ]
     },
     "execution_count": 7,
     "metadata": {},
     "output_type": "execute_result"
    }
   ],
   "source": [
    "fin_features_X"
   ]
  },
  {
   "cell_type": "code",
   "execution_count": 8,
   "id": "14e3c7ad",
   "metadata": {},
   "outputs": [],
   "source": [
    "# Saving the machine learning model as pickle file\n",
    "pickle.dump(prediction_model, open('default_prediction_model.pkl', 'wb'))"
   ]
  },
  {
   "cell_type": "code",
   "execution_count": 9,
   "id": "065b57a2",
   "metadata": {},
   "outputs": [],
   "source": [
    "# Saving the encoding lable\n",
    "pickle.dump(encode_map, open(\"encode_map.pkl\", \"wb\"))"
   ]
  },
  {
   "cell_type": "code",
   "execution_count": null,
   "id": "4e7b6646",
   "metadata": {},
   "outputs": [],
   "source": []
  },
  {
   "cell_type": "code",
   "execution_count": null,
   "id": "207e18d9",
   "metadata": {},
   "outputs": [],
   "source": []
  },
  {
   "cell_type": "code",
   "execution_count": null,
   "id": "f23efa44",
   "metadata": {},
   "outputs": [],
   "source": []
  },
  {
   "cell_type": "markdown",
   "id": "ae49592e",
   "metadata": {},
   "source": [
    "#### Predicting"
   ]
  },
  {
   "cell_type": "code",
   "execution_count": 10,
   "id": "a1eef97e",
   "metadata": {},
   "outputs": [],
   "source": [
    "# Importing the prediction model and encoding label (of target feature)\n",
    "prediction_model = pickle.load(open('default_prediction_model.pkl', 'rb'))\n",
    "encode_map = pickle.load(open('encode_map.pkl', 'rb'))"
   ]
  },
  {
   "cell_type": "code",
   "execution_count": 11,
   "id": "04692264",
   "metadata": {},
   "outputs": [],
   "source": [
    "test_data_cp=test_data.iloc[:30000,]\n",
    "# test_data_cp=test_data.copy()"
   ]
  },
  {
   "cell_type": "code",
   "execution_count": 12,
   "id": "2c118edd",
   "metadata": {},
   "outputs": [],
   "source": [
    "test_data_cp['customer_id']=test_data_cp.index"
   ]
  },
  {
   "cell_type": "code",
   "execution_count": 13,
   "id": "c3e80267",
   "metadata": {},
   "outputs": [],
   "source": [
    "test_data_cp.set_index(test_data_cp['customer_id'],inplace=True)"
   ]
  },
  {
   "cell_type": "code",
   "execution_count": 14,
   "id": "5a40eb5b",
   "metadata": {},
   "outputs": [],
   "source": [
    "test_data_cp['Predicted_Default']=prediction_model.predict(test_data_cp[list(feature_importances_res['Feature'])])"
   ]
  },
  {
   "cell_type": "code",
   "execution_count": 15,
   "id": "029092cb",
   "metadata": {},
   "outputs": [
    {
     "name": "stdout",
     "output_type": "stream",
     "text": [
      "Note: model_output=='probability'. For LGBMClassifier shap values normally get calculated against X_background, but paramater X_background=None, so using X instead\n",
      "Generating self.shap_explainer = shap.TreeExplainer(model, X, model_output='probability', feature_perturbation='interventional')...\n",
      "Note: Shap interaction values will not be available. If shap values in probability space are not necessary you can pass model_output='logodds' to get shap values in logodds without the need for a background dataset and also working shap interaction values...\n",
      "Building ExplainerDashboard..\n",
      "WARNING: the number of idxs (=30000) > max_idxs_in_dropdown(=1000). However with your installed version of dash(2.14.1) dropdown search may not work smoothly. You can downgrade to `pip install dash==2.6.2` which should work better for now...\n",
      "Detected notebook environment, consider setting mode='external', mode='inline' or mode='jupyterlab' to keep the notebook interactive while the dashboard is running...\n",
      "The explainer object has no decision_trees property. so setting decision_trees=False...\n",
      "Generating layout...\n",
      "Calculating shap values...\n"
     ]
    },
    {
     "name": "stderr",
     "output_type": "stream",
     "text": [
      "100%|===================| 29853/30000 [01:16<00:00]        "
     ]
    },
    {
     "name": "stdout",
     "output_type": "stream",
     "text": [
      "Calculating dependencies...\n",
      "Calculating permutation importances (if slow, try setting n_jobs parameter)...\n",
      "Calculating prediction probabilities...\n",
      "Calculating metrics...\n",
      "Reminder: you can store the explainer (including calculated dependencies) with explainer.dump('explainer.joblib') and reload with e.g. ClassifierExplainer.from_file('explainer.joblib')\n",
      "Registering callbacks...\n"
     ]
    }
   ],
   "source": [
    "explainer=ClassifierExplainer(prediction_model, test_data_cp[feature_importances_res['Feature']],test_data_cp['Predicted_Default'] ,idxs=test_data_cp.index)\n",
    "db=ExplainerDashboard(explainer,title='Default Prediction',model_summary=False,shap_dependence=False,shap_interaction=False,contribution=False)"
   ]
  },
  {
   "cell_type": "code",
   "execution_count": 16,
   "id": "98ad65a9",
   "metadata": {},
   "outputs": [
    {
     "name": "stdout",
     "output_type": "stream",
     "text": [
      "Starting ExplainerDashboard on http://192.168.0.8:8050\n"
     ]
    },
    {
     "data": {
      "text/html": [
       "\n",
       "        <iframe\n",
       "            width=\"100%\"\n",
       "            height=\"650\"\n",
       "            src=\"http://192.168.0.8:8050/\"\n",
       "            frameborder=\"0\"\n",
       "            allowfullscreen\n",
       "            \n",
       "        ></iframe>\n",
       "        "
      ],
      "text/plain": [
       "<IPython.lib.display.IFrame at 0x20884aff4c0>"
      ]
     },
     "metadata": {},
     "output_type": "display_data"
    }
   ],
   "source": [
    "db.run(host='192.168.0.8',port=8050)"
   ]
  },
  {
   "cell_type": "code",
   "execution_count": null,
   "id": "4e6d1908",
   "metadata": {},
   "outputs": [],
   "source": [
    "# db.run()"
   ]
  },
  {
   "cell_type": "code",
   "execution_count": null,
   "id": "e92aa0d9",
   "metadata": {},
   "outputs": [],
   "source": []
  },
  {
   "cell_type": "code",
   "execution_count": null,
   "id": "82730c45",
   "metadata": {},
   "outputs": [],
   "source": []
  }
 ],
 "metadata": {
  "kernelspec": {
   "display_name": "Python 3 (ipykernel)",
   "language": "python",
   "name": "python3"
  },
  "language_info": {
   "codemirror_mode": {
    "name": "ipython",
    "version": 3
   },
   "file_extension": ".py",
   "mimetype": "text/x-python",
   "name": "python",
   "nbconvert_exporter": "python",
   "pygments_lexer": "ipython3",
   "version": "3.9.7"
  }
 },
 "nbformat": 4,
 "nbformat_minor": 5
}
